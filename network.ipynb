{
  "nbformat": 4,
  "nbformat_minor": 0,
  "metadata": {
    "kernelspec": {
      "display_name": "Python 3",
      "language": "python",
      "name": "python3"
    },
    "language_info": {
      "codemirror_mode": {
        "name": "ipython",
        "version": 3
      },
      "file_extension": ".py",
      "mimetype": "text/x-python",
      "name": "python",
      "nbconvert_exporter": "python",
      "pygments_lexer": "ipython3",
      "version": "3.7.6"
    },
    "colab": {
      "name": "network.ipynb",
      "provenance": [],
      "toc_visible": true
    },
    "accelerator": "GPU"
  },
  "cells": [
    {
      "cell_type": "code",
      "metadata": {
        "id": "inUFEaLKIcd7",
        "colab_type": "code",
        "colab": {}
      },
      "source": [
        "#! pip install wget"
      ],
      "execution_count": null,
      "outputs": []
    },
    {
      "cell_type": "code",
      "metadata": {
        "id": "OxhmJbE9IceC",
        "colab_type": "code",
        "colab": {}
      },
      "source": [
        "\n",
        "#import wget"
      ],
      "execution_count": null,
      "outputs": []
    },
    {
      "cell_type": "code",
      "metadata": {
        "id": "Fi25QJtwIceG",
        "colab_type": "code",
        "colab": {}
      },
      "source": [
        "\n",
        "#url = \"https://d17h27t6h515a5.cloudfront.net/topher/2016/December/584f6edd_data/data.zip\""
      ],
      "execution_count": null,
      "outputs": []
    },
    {
      "cell_type": "code",
      "metadata": {
        "id": "tbkO-u5ZIceK",
        "colab_type": "code",
        "colab": {}
      },
      "source": [
        "\n",
        "#wget.download(url,\"\")"
      ],
      "execution_count": null,
      "outputs": []
    },
    {
      "cell_type": "code",
      "metadata": {
        "id": "9SL4NncJIceO",
        "colab_type": "code",
        "colab": {}
      },
      "source": [
        "\n",
        "#! unzip data.zip"
      ],
      "execution_count": null,
      "outputs": []
    },
    {
      "cell_type": "code",
      "metadata": {
        "id": "uMIvYfmfIceT",
        "colab_type": "code",
        "colab": {}
      },
      "source": [
        "import pandas as pd\n",
        "import cv2\n",
        "import matplotlib.pyplot as plt\n",
        "import numpy as np"
      ],
      "execution_count": null,
      "outputs": []
    },
    {
      "cell_type": "code",
      "metadata": {
        "id": "7nXvnr30IceX",
        "colab_type": "code",
        "colab": {}
      },
      "source": [
        "data_dir= 'data'"
      ],
      "execution_count": null,
      "outputs": []
    },
    {
      "cell_type": "code",
      "metadata": {
        "id": "8_H5WAsdIceb",
        "colab_type": "code",
        "colab": {}
      },
      "source": [
        "track = pd.read_csv('data/driving_log.csv')"
      ],
      "execution_count": null,
      "outputs": []
    },
    {
      "cell_type": "code",
      "metadata": {
        "id": "tU5HQj6HIceg",
        "colab_type": "code",
        "colab": {
          "base_uri": "https://localhost:8080/",
          "height": 224
        },
        "outputId": "559ebb9e-ac36-4989-bcf0-1158aaa21e8b"
      },
      "source": [
        "track.head()"
      ],
      "execution_count": null,
      "outputs": [
        {
          "output_type": "execute_result",
          "data": {
            "text/html": [
              "<div>\n",
              "<style scoped>\n",
              "    .dataframe tbody tr th:only-of-type {\n",
              "        vertical-align: middle;\n",
              "    }\n",
              "\n",
              "    .dataframe tbody tr th {\n",
              "        vertical-align: top;\n",
              "    }\n",
              "\n",
              "    .dataframe thead th {\n",
              "        text-align: right;\n",
              "    }\n",
              "</style>\n",
              "<table border=\"1\" class=\"dataframe\">\n",
              "  <thead>\n",
              "    <tr style=\"text-align: right;\">\n",
              "      <th></th>\n",
              "      <th>center</th>\n",
              "      <th>left</th>\n",
              "      <th>right</th>\n",
              "      <th>steering</th>\n",
              "      <th>throttle</th>\n",
              "      <th>brake</th>\n",
              "      <th>speed</th>\n",
              "    </tr>\n",
              "  </thead>\n",
              "  <tbody>\n",
              "    <tr>\n",
              "      <th>0</th>\n",
              "      <td>IMG/center_2016_12_01_13_30_48_287.jpg</td>\n",
              "      <td>IMG/left_2016_12_01_13_30_48_287.jpg</td>\n",
              "      <td>IMG/right_2016_12_01_13_30_48_287.jpg</td>\n",
              "      <td>0.0</td>\n",
              "      <td>0.0</td>\n",
              "      <td>0.0</td>\n",
              "      <td>22.148290</td>\n",
              "    </tr>\n",
              "    <tr>\n",
              "      <th>1</th>\n",
              "      <td>IMG/center_2016_12_01_13_30_48_404.jpg</td>\n",
              "      <td>IMG/left_2016_12_01_13_30_48_404.jpg</td>\n",
              "      <td>IMG/right_2016_12_01_13_30_48_404.jpg</td>\n",
              "      <td>0.0</td>\n",
              "      <td>0.0</td>\n",
              "      <td>0.0</td>\n",
              "      <td>21.879630</td>\n",
              "    </tr>\n",
              "    <tr>\n",
              "      <th>2</th>\n",
              "      <td>IMG/center_2016_12_01_13_31_12_937.jpg</td>\n",
              "      <td>IMG/left_2016_12_01_13_31_12_937.jpg</td>\n",
              "      <td>IMG/right_2016_12_01_13_31_12_937.jpg</td>\n",
              "      <td>0.0</td>\n",
              "      <td>0.0</td>\n",
              "      <td>0.0</td>\n",
              "      <td>1.453011</td>\n",
              "    </tr>\n",
              "    <tr>\n",
              "      <th>3</th>\n",
              "      <td>IMG/center_2016_12_01_13_31_13_037.jpg</td>\n",
              "      <td>IMG/left_2016_12_01_13_31_13_037.jpg</td>\n",
              "      <td>IMG/right_2016_12_01_13_31_13_037.jpg</td>\n",
              "      <td>0.0</td>\n",
              "      <td>0.0</td>\n",
              "      <td>0.0</td>\n",
              "      <td>1.438419</td>\n",
              "    </tr>\n",
              "    <tr>\n",
              "      <th>4</th>\n",
              "      <td>IMG/center_2016_12_01_13_31_13_177.jpg</td>\n",
              "      <td>IMG/left_2016_12_01_13_31_13_177.jpg</td>\n",
              "      <td>IMG/right_2016_12_01_13_31_13_177.jpg</td>\n",
              "      <td>0.0</td>\n",
              "      <td>0.0</td>\n",
              "      <td>0.0</td>\n",
              "      <td>1.418236</td>\n",
              "    </tr>\n",
              "  </tbody>\n",
              "</table>\n",
              "</div>"
            ],
            "text/plain": [
              "                                   center  ...      speed\n",
              "0  IMG/center_2016_12_01_13_30_48_287.jpg  ...  22.148290\n",
              "1  IMG/center_2016_12_01_13_30_48_404.jpg  ...  21.879630\n",
              "2  IMG/center_2016_12_01_13_31_12_937.jpg  ...   1.453011\n",
              "3  IMG/center_2016_12_01_13_31_13_037.jpg  ...   1.438419\n",
              "4  IMG/center_2016_12_01_13_31_13_177.jpg  ...   1.418236\n",
              "\n",
              "[5 rows x 7 columns]"
            ]
          },
          "metadata": {
            "tags": []
          },
          "execution_count": 9
        }
      ]
    },
    {
      "cell_type": "code",
      "metadata": {
        "id": "_9Emiy9AIcek",
        "colab_type": "code",
        "colab": {}
      },
      "source": [
        "from sklearn.model_selection import train_test_split"
      ],
      "execution_count": null,
      "outputs": []
    },
    {
      "cell_type": "code",
      "metadata": {
        "id": "qFeu20oMIceo",
        "colab_type": "code",
        "colab": {}
      },
      "source": [
        "traincsv , testcsv = train_test_split(track,test_size =0.05)"
      ],
      "execution_count": null,
      "outputs": []
    },
    {
      "cell_type": "code",
      "metadata": {
        "id": "izpfW8g7Icer",
        "colab_type": "code",
        "colab": {
          "base_uri": "https://localhost:8080/",
          "height": 34
        },
        "outputId": "7bb7e1f6-e670-4f01-cdb8-abd6077a7644"
      },
      "source": [
        "testcsv.shape"
      ],
      "execution_count": null,
      "outputs": [
        {
          "output_type": "execute_result",
          "data": {
            "text/plain": [
              "(402, 7)"
            ]
          },
          "metadata": {
            "tags": []
          },
          "execution_count": 12
        }
      ]
    },
    {
      "cell_type": "code",
      "metadata": {
        "id": "JPf4gI9HIceu",
        "colab_type": "code",
        "colab": {}
      },
      "source": [
        "def my_gen(testcsv,data_dir,Batch_size):\n",
        "    while True:\n",
        "        testcsv = testcsv.sample(frac = 1)\n",
        "        end = 0\n",
        "        iter_i = int(testcsv.shape[0]/Batch_size)\n",
        "        for i in range(iter_i+1):\n",
        "            start = end\n",
        "            if(i==iter_i):\n",
        "                end = None\n",
        "            else:\n",
        "                end = start+Batch_size\n",
        "            \n",
        "            rowselect = testcsv[start:end]\n",
        "            img = []\n",
        "            labels =[]\n",
        "            for rows in rowselect.iterrows():\n",
        "                center = cv2.cvtColor(cv2.imread(data_dir+\"/\"+\"{}\".format(rows[1]['center'].strip())),cv2.COLOR_BGR2RGB)\n",
        "                left = cv2.cvtColor(cv2.imread(data_dir+\"/\"+\"{}\".format(rows[1]['left'].strip())),cv2.COLOR_BGR2RGB)\n",
        "                right = cv2.cvtColor(cv2.imread(data_dir+\"/\"+\"{}\".format(rows[1]['right'].strip())),cv2.COLOR_BGR2RGB)\n",
        "                steer = float(rows[1]['steering'])\n",
        "                \n",
        "                img.append(center)\n",
        "                labels.append(steer)\n",
        "                img.append(left)\n",
        "                labels.append(steer+0.2)\n",
        "                img.append(right)\n",
        "                labels.append(steer-0.2)\n",
        "                \n",
        "                \n",
        "                #Augumentation\n",
        "                \n",
        "                img.append(cv2.flip(center,1))\n",
        "                labels.append(steer*-1)\n",
        "                img.append(cv2.flip(left,1))\n",
        "                labels.append((steer+0.2)*-1)\n",
        "                img.append(cv2.flip(right,1))\n",
        "                labels.append((steer-0.2)*-1)\n",
        "                \n",
        "                \n",
        "            img = np.array(img)\n",
        "            labels = np.array(labels)\n",
        "\n",
        "            \n",
        "            yield img,labels\n",
        "            \n",
        "        \n",
        " "
      ],
      "execution_count": null,
      "outputs": []
    },
    {
      "cell_type": "code",
      "metadata": {
        "id": "MzWAQhjmWQi0",
        "colab_type": "code",
        "colab": {}
      },
      "source": [
        ""
      ],
      "execution_count": null,
      "outputs": []
    },
    {
      "cell_type": "code",
      "metadata": {
        "id": "WZj8o-zHIcez",
        "colab_type": "code",
        "colab": {}
      },
      "source": [
        "train_gen = my_gen(traincsv,data_dir,32)\n",
        "test_gen = my_gen(testcsv,data_dir,32)\n"
      ],
      "execution_count": null,
      "outputs": []
    },
    {
      "cell_type": "code",
      "metadata": {
        "id": "WFF8uiSMIce3",
        "colab_type": "code",
        "colab": {}
      },
      "source": [
        "from keras.models import Sequential,Model\n",
        "from keras.layers import Cropping2D\n",
        "from keras.layers.core import Dense , Activation ,Flatten , Lambda\n",
        "from keras.layers.convolutional import Conv2D\n",
        "import tensorflow as tf"
      ],
      "execution_count": null,
      "outputs": []
    },
    {
      "cell_type": "code",
      "metadata": {
        "id": "KCCfSvcBIce6",
        "colab_type": "code",
        "colab": {}
      },
      "source": [
        "def behavioral_model():\n",
        "    model = Sequential()\n",
        "    model.add(Lambda(lambda x:(x/255)-0.5,input_shape =(160,320,3)))\n",
        "    model.add(Cropping2D(cropping=((50,20), (0,0))))\n",
        "    model.add(Conv2D(24,(5,5),activation='relu'))\n",
        "    model.add(Conv2D(36,(5,5),activation='relu'))\n",
        "    model.add(Conv2D(48,(5,5),activation='relu'))\n",
        "    model.add(Conv2D(64,(3,3),activation='relu'))\n",
        "    model.add(Conv2D(64,(3,3),activation='relu'))\n",
        "    model.add(Flatten())\n",
        "    model.add(Dense(100,activation='relu'))\n",
        "    model.add(Dense(50,activation='relu'))\n",
        "    model.add(Dense(10,activation='relu'))\n",
        "    model.add(Dense(1))\n",
        "    return model"
      ],
      "execution_count": null,
      "outputs": []
    },
    {
      "cell_type": "code",
      "metadata": {
        "id": "SiIGl07WIce9",
        "colab_type": "code",
        "colab": {}
      },
      "source": [
        "model = behavioral_model()"
      ],
      "execution_count": null,
      "outputs": []
    },
    {
      "cell_type": "code",
      "metadata": {
        "id": "jINKEZ-VIcfE",
        "colab_type": "code",
        "colab": {}
      },
      "source": [
        "model.compile(optimizer='Adam',loss='mse')"
      ],
      "execution_count": null,
      "outputs": []
    },
    {
      "cell_type": "code",
      "metadata": {
        "id": "I39oJEc7J8b5",
        "colab_type": "code",
        "colab": {}
      },
      "source": [
        "my_callbacks = [\n",
        "    tf.keras.callbacks.EarlyStopping(patience=2),\n",
        "    tf.keras.callbacks.ModelCheckpoint(filepath='model.{epoch:02d}-{val_loss:.2f}.h5'),\n",
        "    tf.keras.callbacks.TensorBoard(log_dir='./logs'),\n",
        "]"
      ],
      "execution_count": null,
      "outputs": []
    },
    {
      "cell_type": "code",
      "metadata": {
        "id": "sh1ltcoVIcfI",
        "colab_type": "code",
        "colab": {
          "base_uri": "https://localhost:8080/",
          "height": 258
        },
        "outputId": "b4d69f05-0ddd-47a3-b51c-fbd51b60e872"
      },
      "source": [
        "model.fit_generator(train_gen,validation_data=test_gen,steps_per_epoch=traincsv.shape[0],validation_steps=testcsv.shape[0],epochs = 10,verbose=1,callbacks=my_callbacks)"
      ],
      "execution_count": null,
      "outputs": [
        {
          "output_type": "stream",
          "text": [
            "WARNING:tensorflow:From <ipython-input-20-e7d79bce5890>:1: Model.fit_generator (from tensorflow.python.keras.engine.training) is deprecated and will be removed in a future version.\n",
            "Instructions for updating:\n",
            "Please use Model.fit, which supports generators.\n",
            "Epoch 1/10\n",
            "   1/7634 [..............................] - ETA: 0s - loss: 0.0355WARNING:tensorflow:From /usr/local/lib/python3.6/dist-packages/tensorflow/python/ops/summary_ops_v2.py:1277: stop (from tensorflow.python.eager.profiler) is deprecated and will be removed after 2020-07-01.\n",
            "Instructions for updating:\n",
            "use `tf.profiler.experimental.stop` instead.\n",
            "   2/7634 [..............................] - ETA: 1:25:41 - loss: 6.5495WARNING:tensorflow:Callbacks method `on_train_batch_end` is slow compared to the batch time (batch time: 0.2950s vs `on_train_batch_end` time: 1.0516s). Check your callbacks.\n",
            "7634/7634 [==============================] - 9119s 1s/step - loss: 0.0068 - val_loss: 0.0107\n",
            "Epoch 2/10\n",
            "7634/7634 [==============================] - 8976s 1s/step - loss: 4.8684e-04 - val_loss: 0.0108\n",
            "Epoch 3/10\n",
            "2989/7634 [==========>...................] - ETA: 1:28:40 - loss: 3.1070e-04"
          ],
          "name": "stdout"
        }
      ]
    },
    {
      "cell_type": "code",
      "metadata": {
        "id": "TEMRcuRGIcfL",
        "colab_type": "code",
        "colab": {}
      },
      "source": [
        ""
      ],
      "execution_count": null,
      "outputs": []
    }
  ]
}