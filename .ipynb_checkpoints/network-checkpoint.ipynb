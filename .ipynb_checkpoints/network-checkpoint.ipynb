{
 "cells": [
  {
   "cell_type": "code",
   "execution_count": null,
   "metadata": {},
   "outputs": [],
   "source": [
    "\n",
    "#! pip install wget"
   ]
  },
  {
   "cell_type": "code",
   "execution_count": null,
   "metadata": {},
   "outputs": [],
   "source": [
    "\n",
    "#import wget"
   ]
  },
  {
   "cell_type": "code",
   "execution_count": null,
   "metadata": {},
   "outputs": [],
   "source": [
    "\n",
    "#url = \"https://d17h27t6h515a5.cloudfront.net/topher/2016/December/584f6edd_data/data.zip\""
   ]
  },
  {
   "cell_type": "code",
   "execution_count": null,
   "metadata": {},
   "outputs": [],
   "source": [
    "\n",
    "#wget.download(url,\"\")"
   ]
  },
  {
   "cell_type": "code",
   "execution_count": null,
   "metadata": {},
   "outputs": [],
   "source": [
    "\n",
    "#! unzip data.zip"
   ]
  },
  {
   "cell_type": "code",
   "execution_count": null,
   "metadata": {},
   "outputs": [],
   "source": [
    "import pandas as pd\n",
    "import cv2\n",
    "import matplotlib.pyplot as plt\n",
    "import numpy as np"
   ]
  },
  {
   "cell_type": "code",
   "execution_count": null,
   "metadata": {},
   "outputs": [],
   "source": [
    "data_dir= 'data'"
   ]
  },
  {
   "cell_type": "code",
   "execution_count": null,
   "metadata": {},
   "outputs": [],
   "source": [
    "track = pd.read_csv('data/driving_log.csv')"
   ]
  },
  {
   "cell_type": "code",
   "execution_count": null,
   "metadata": {},
   "outputs": [],
   "source": [
    "track.head()"
   ]
  },
  {
   "cell_type": "code",
   "execution_count": null,
   "metadata": {},
   "outputs": [],
   "source": [
    "from sklearn.model_selection import train_test_split"
   ]
  },
  {
   "cell_type": "code",
   "execution_count": null,
   "metadata": {},
   "outputs": [],
   "source": [
    "traincsv , testcsv = train_test_split(track,test_size =0.05)"
   ]
  },
  {
   "cell_type": "code",
   "execution_count": null,
   "metadata": {},
   "outputs": [],
   "source": [
    "testcsv.shape"
   ]
  },
  {
   "cell_type": "code",
   "execution_count": null,
   "metadata": {},
   "outputs": [],
   "source": [
    "def my_gen(testcsv,data_dir,Batch_size):\n",
    "    testcsv = testcsv.sample(frac = 1)\n",
    "    end = 0\n",
    "    iter_i = int(testcsv.shape[0]/Batch_size)\n",
    "    for i in range(iter_i+1):\n",
    "        start = end\n",
    "        if(i==iter_i):\n",
    "            end = None\n",
    "        else:\n",
    "            end = start+Batch_size\n",
    "        \n",
    "        rowselect = testcsv[start:end]\n",
    "        img = []\n",
    "        labels =[]\n",
    "        for rows in rowselect.iterrows():\n",
    "            center = cv2.cvtColor(cv2.imread(data_dir+\"/\"+\"{}\".format(rows[1]['center'].strip())),cv2.COLOR_BGR2RGB)\n",
    "            left = cv2.cvtColor(cv2.imread(data_dir+\"/\"+\"{}\".format(rows[1]['left'].strip())),cv2.COLOR_BGR2RGB)\n",
    "            right = cv2.cvtColor(cv2.imread(data_dir+\"/\"+\"{}\".format(rows[1]['right'].strip())),cv2.COLOR_BGR2RGB)\n",
    "            steer = float(rows[1]['steering'])\n",
    "            \n",
    "            img.append(center)\n",
    "            labels.append(steer)\n",
    "            img.append(left)\n",
    "            labels.append(steer+0.2)\n",
    "            img.append(right)\n",
    "            labels.append(steer-0.2)\n",
    "            \n",
    "            \n",
    "            #Augumentation\n",
    "            \n",
    "            img.append(cv2.flip(center,1))\n",
    "            labels.append(steer*-1)\n",
    "            img.append(cv2.flip(left,1))\n",
    "            labels.append((steer+0.2)*-1)\n",
    "            img.append(cv2.flip(right,1))\n",
    "            labels.append((steer-0.2)*-1)\n",
    "            \n",
    "            \n",
    "        img = np.array(img)\n",
    "        labels = np.array(labels)\n",
    "\n",
    "        \n",
    "        yield img,labels\n",
    "            \n",
    "            \n",
    "        \n",
    "    \n",
    "    \n",
    "    \n",
    "    \n",
    "    \n",
    "        \n",
    "            \n",
    "    \n",
    "            \n",
    "        \n",
    "        \n",
    "        \n",
    "        \n",
    "        \n",
    "        \n",
    " "
   ]
  },
  {
   "cell_type": "code",
   "execution_count": null,
   "metadata": {},
   "outputs": [],
   "source": [
    "train_gen = my_gen(traincsv,data_dir,64)\n",
    "test_gen = my_gen(testcsv,data_dir,64)\n"
   ]
  },
  {
   "cell_type": "code",
   "execution_count": null,
   "metadata": {},
   "outputs": [],
   "source": [
    "from keras.models import Sequential,Model\n",
    "from keras.layers import Cropping2D\n",
    "from keras.layers.core import Dense , Activation ,Flatten , Lambda\n",
    "from keras.layers.convolutional import Conv2D"
   ]
  },
  {
   "cell_type": "code",
   "execution_count": null,
   "metadata": {},
   "outputs": [],
   "source": [
    "def behavioral_model():\n",
    "    model = Sequential()\n",
    "    model.add(Lambda(lambda x:(x/255)-0.5,input_shape =(160,320,3)))\n",
    "    model.add(Cropping2D(cropping=((50,20), (0,0))))\n",
    "    model.add(Conv2D(24,(5,5),activation='relu'))\n",
    "    model.add(Conv2D(36,(5,5),activation='relu'))\n",
    "    model.add(Conv2D(48,(5,5),activation='relu'))\n",
    "    model.add(Conv2D(64,(3,3),activation='relu'))\n",
    "    model.add(Conv2D(64,(3,3),activation='relu'))\n",
    "    model.add(Flatten())\n",
    "    model.add(Dense(100,activation='relu'))\n",
    "    model.add(Dense(50,activation='relu'))\n",
    "    model.add(Dense(10,activation='relu'))\n",
    "    model.add(Dense(1))\n",
    "    return model"
   ]
  },
  {
   "cell_type": "code",
   "execution_count": null,
   "metadata": {},
   "outputs": [],
   "source": [
    "model = behavioral_model()"
   ]
  },
  {
   "cell_type": "code",
   "execution_count": null,
   "metadata": {},
   "outputs": [],
   "source": [
    "model.compile(optimizer='Adam',loss='mse')"
   ]
  },
  {
   "cell_type": "code",
   "execution_count": null,
   "metadata": {},
   "outputs": [],
   "source": [
    "model.fit_generator(train_gen,validation_data=test_gen,steps_per_epoch=traincsv.shape[0],validation_steps=testcsv.shape[0],epochs = 10,verbose=1)"
   ]
  },
  {
   "cell_type": "code",
   "execution_count": null,
   "metadata": {},
   "outputs": [],
   "source": []
  }
 ],
 "metadata": {
  "kernelspec": {
   "display_name": "Python 3",
   "language": "python",
   "name": "python3"
  },
  "language_info": {
   "codemirror_mode": {
    "name": "ipython",
    "version": 3
   },
   "file_extension": ".py",
   "mimetype": "text/x-python",
   "name": "python",
   "nbconvert_exporter": "python",
   "pygments_lexer": "ipython3",
   "version": "3.7.6"
  }
 },
 "nbformat": 4,
 "nbformat_minor": 4
}
